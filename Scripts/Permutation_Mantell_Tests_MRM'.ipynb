{
  "cells": [
    {
      "cell_type": "code",
      "execution_count": 1,
      "metadata": {
        "colab": {
          "base_uri": "https://localhost:8080/"
        },
        "id": "ZgnmdAdffHdj",
        "outputId": "975e6d01-bb04-4969-b328-fade60ea30fa"
      },
      "outputs": [
        {
          "output_type": "stream",
          "name": "stderr",
          "text": [
            "Installing packages into ‘/usr/local/lib/R/site-library’\n",
            "(as ‘lib’ is unspecified)\n",
            "\n",
            "Warning message:\n",
            "“package ‘grid’ is a base package, and should not be updated”\n",
            "also installing the dependencies ‘lazyeval’, ‘igraph’, ‘svglite’, ‘crosstalk’\n",
            "\n",
            "\n",
            "Warning message in install.packages(c(\"googledrive\", \"readr\", \"knitr\", \"ecodist\", :\n",
            "“installation of package ‘magick’ had non-zero exit status”\n"
          ]
        }
      ],
      "source": [
        "# Install and load required packages (if not already installed)\n",
        "install.packages(c(\"googledrive\", \"readr\",\"knitr\",\"ecodist\",\"kableExtra\",\"magrittr\",\"DT\",\"magick\",\"grid\"))\n"
      ]
    },
    {
      "cell_type": "code",
      "execution_count": 2,
      "metadata": {
        "colab": {
          "base_uri": "https://localhost:8080/"
        },
        "id": "vBvhKQT31LK6",
        "outputId": "d9022b31-2d5e-4ec2-aca5-3b2ac1e0a9a6"
      },
      "outputs": [
        {
          "output_type": "stream",
          "name": "stderr",
          "text": [
            "\u001b[1m\u001b[22mIs it OK to cache OAuth access credentials in the folder \u001b[34m~/.cache/gargle\u001b[39m\n",
            "between R sessions?\n",
            "\u001b[1m1\u001b[22m: Yes\n",
            "\u001b[1m2\u001b[22m: No\n"
          ]
        },
        {
          "name": "stdout",
          "output_type": "stream",
          "text": [
            "Selection: 1\n"
          ]
        },
        {
          "output_type": "stream",
          "name": "stderr",
          "text": [
            "Please point your browser to the following url: \n",
            "\n",
            "https://accounts.google.com/o/oauth2/v2/auth?client_id=603366585132-frjlouoa3s2ono25d2l9ukvhlsrlnr7k.apps.googleusercontent.com&scope=https%3A%2F%2Fwww.googleapis.com%2Fauth%2Fdrive%20https%3A%2F%2Fwww.googleapis.com%2Fauth%2Fuserinfo.email&redirect_uri=https%3A%2F%2Fwww.tidyverse.org%2Fgoogle-callback%2F&response_type=code&state=27b2b217973051b2e3a7e493ba907fef&access_type=offline&prompt=consent\n",
            "\n"
          ]
        },
        {
          "name": "stdout",
          "output_type": "stream",
          "text": [
            "Enter authorization code: eyJjb2RlIjoiNC8wQWN2RE1yQkEyb0dFRjZfUVd5dFhwajFuRGRsR296T0lzbzB2XzFMODFhekY0TXBVSUJvamVjbmVOY2Fob2I3Q1F2ZXdaUSIsInN0YXRlIjoiMjdiMmIyMTc5NzMwNTFiMmUzYTdlNDkzYmE5MDdmZWYifQ==\n"
          ]
        }
      ],
      "source": [
        "library(googledrive)\n",
        "library(readr)\n",
        "library(knitr)\n",
        "library(ecodist)\n",
        "library(kableExtra)\n",
        "library(magrittr)\n",
        "library(DT)\n",
        "library(grid)\n",
        "drive_auth()"
      ]
    },
    {
      "cell_type": "code",
      "execution_count": 3,
      "metadata": {
        "id": "Ms102t_e7CHX"
      },
      "outputs": [],
      "source": [
        "# Read all CSV files from Google Drive\n",
        "v1 <- read.csv(\"https://drive.google.com/uc?export=download&id=1-AftjsRKwi8IWId10Ile5xHa22Chf51q\")\n",
        "v2 <- read.csv(\"https://drive.google.com/uc?export=download&id=1-T2LJhl9-b7_nLpJ-QHUUpnf_1arsCPI\")\n",
        "v3 <- read.csv(\"https://drive.google.com/uc?export=download&id=1-UKbiS_eu63c20fzwA2c-3Sf6KX3G4BK\")\n",
        "v3a <- read.csv(\"https://drive.google.com/uc?export=download&id=1-Vs1tsNuXnviVs_4VkO3ExV6nUa3MUvI\")\n",
        "v3b <- read.csv(\"https://drive.google.com/uc?export=download&id=1-W6c9k5fqgYfTC3CAevEtUx2o4e6cFhD\")\n",
        "v4 <- read.csv(\"https://drive.google.com/uc?export=download&id=1-gNfCQYVBiexOJESQQz73t4IV8lgpx9U\")\n",
        "hmax_c1 <- read.csv(\"https://drive.google.com/uc?export=download&id=104aNbBRnKC_Xg615Sgnk70TUUni_wy-I\")\n",
        "latocc <- read.csv(\"https://drive.google.com/uc?export=download&id=1-jc6pOFmB0RnqOnshG-eahCn93EHOhcp\")\n",
        "anim_inanim <- read.csv(\"https://drive.google.com/uc?export=download&id=101N1Ma0R1HvGV6DJyC8XrdgIbfHeZuyr\")\n",
        "\n",
        "\n"
      ]
    },
    {
      "cell_type": "code",
      "execution_count": 4,
      "metadata": {
        "id": "EvcQ9-6QdBoR"
      },
      "outputs": [],
      "source": [
        "hmax_s1 <- read.csv(\"https://drive.google.com/uc?export=download&id=1-2GCpqi_xb7XBdBSQfL0dLNCspVIytjr\")\n"
      ]
    },
    {
      "cell_type": "code",
      "execution_count": 5,
      "metadata": {
        "id": "i8xGBqzc8ilQ",
        "colab": {
          "base_uri": "https://localhost:8080/"
        },
        "outputId": "6c9bcd01-199e-420e-8db0-13eeb68bfbf0"
      },
      "outputs": [
        {
          "output_type": "stream",
          "name": "stdout",
          "text": [
            "v1 dims: 1750 1750 \n",
            "v2 dimensions: 1750 1750 \n",
            "v3 dimensions: 1750 1750 \n",
            "v3a dimensions: 1750 1750 \n",
            "v3b dimensions: 1750 1750 \n",
            "v4 dimensions: 1750 1750 \n",
            "hmax dimensions: 1750 1750 \n",
            "latocc dimensions: 1750 1750 \n",
            "anim_inanim dimensions: 1750 1750 \n"
          ]
        }
      ],
      "source": [
        "# Print the shape of each data frame\n",
        "cat(\"v1 dims:\",dim(v1),\"\\n\")\n",
        "cat(\"v2 dimensions:\", dim(v2), \"\\n\")\n",
        "cat(\"v3 dimensions:\", dim(v3), \"\\n\")\n",
        "cat(\"v3a dimensions:\", dim(v3a), \"\\n\")\n",
        "cat(\"v3b dimensions:\", dim(v3b), \"\\n\")\n",
        "cat(\"v4 dimensions:\", dim(v4), \"\\n\")\n",
        "cat(\"hmax dimensions:\", dim(hmax_c1), \"\\n\")\n",
        "cat(\"latocc dimensions:\", dim(latocc), \"\\n\")\n",
        "cat(\"anim_inanim dimensions:\", dim(anim_inanim), \"\\n\")"
      ]
    },
    {
      "cell_type": "code",
      "execution_count": 6,
      "metadata": {
        "id": "gusMp1dUAyMR"
      },
      "outputs": [],
      "source": [
        "library(knitr)\n",
        "library(ecodist)"
      ]
    },
    {
      "cell_type": "code",
      "execution_count": 9,
      "metadata": {
        "id": "EN8yE8wq9O_x",
        "colab": {
          "base_uri": "https://localhost:8080/"
        },
        "outputId": "4c54aee0-5994-43e0-ba80-c17f2bc61f34"
      },
      "outputs": [
        {
          "output_type": "stream",
          "name": "stdout",
          "text": [
            "\n",
            "\n",
            "Table: Results for target table 1\n",
            "\n",
            "|                         |Target |Predictor   | Coefficient| P_Value_Coef| R_Squared| P_Value_R_Squared| F_Statistic| P_Value_F_Statistic|\n",
            "|:------------------------|:------|:-----------|-----------:|------------:|---------:|-----------------:|-----------:|-------------------:|\n",
            "|Int                      |v1     |Intercept   |  49.6727295|       0.9324| 0.0005144|            0.1312|    393.7921|              0.1312|\n",
            "|as.dist(predtables[[1]]) |v1     |hmax        |   0.0764936|       0.1312| 0.0005144|            0.1312|    393.7921|              0.1312|\n",
            "|as.dist(predtables[[2]]) |v1     |anim_inanim |   0.0077772|       0.0712| 0.0005144|            0.1312|    393.7921|              0.1312|\n",
            "\n",
            "\n",
            "Table: Results for target table 2\n",
            "\n",
            "|                         |Target |Predictor   | Coefficient| P_Value_Coef| R_Squared| P_Value_R_Squared| F_Statistic| P_Value_F_Statistic|\n",
            "|:------------------------|:------|:-----------|-----------:|------------:|---------:|-----------------:|-----------:|-------------------:|\n",
            "|Int                      |v2     |Intercept   |  63.3591298|       0.8876| 0.0003561|            0.2472|    272.5639|              0.2472|\n",
            "|as.dist(predtables[[1]]) |v2     |hmax        |   0.0721001|       0.2500| 0.0003561|            0.2472|    272.5639|              0.2472|\n",
            "|as.dist(predtables[[2]]) |v2     |anim_inanim |   0.0278793|       0.0020| 0.0003561|            0.2472|    272.5639|              0.2472|\n",
            "\n",
            "\n",
            "Table: Results for target table 3\n",
            "\n",
            "|                         |Target |Predictor   | Coefficient| P_Value_Coef| R_Squared| P_Value_R_Squared| F_Statistic| P_Value_F_Statistic|\n",
            "|:------------------------|:------|:-----------|-----------:|------------:|---------:|-----------------:|-----------:|-------------------:|\n",
            "|Int                      |v3     |Intercept   |  59.3224022|       0.6108|  2.98e-05|            0.7532|    22.79634|              0.7532|\n",
            "|as.dist(predtables[[1]]) |v3     |hmax        |   0.0145272|       0.8036|  2.98e-05|            0.7532|    22.79634|              0.7532|\n",
            "|as.dist(predtables[[2]]) |v3     |anim_inanim |   0.0378911|       0.0004|  2.98e-05|            0.7532|    22.79634|              0.7532|\n",
            "\n",
            "\n",
            "Table: Results for target table 4\n",
            "\n",
            "|                         |Target |Predictor   | Coefficient| P_Value_Coef| R_Squared| P_Value_R_Squared| F_Statistic| P_Value_F_Statistic|\n",
            "|:------------------------|:------|:-----------|-----------:|------------:|---------:|-----------------:|-----------:|-------------------:|\n",
            "|Int                      |v4     |Intercept   |  30.8999198|       0.4548|  3.02e-05|            0.7228|    23.12735|              0.7228|\n",
            "|as.dist(predtables[[1]]) |v4     |hmax        |  -0.0055924|       0.8708|  3.02e-05|            0.7228|    23.12735|              0.7228|\n",
            "|as.dist(predtables[[2]]) |v4     |anim_inanim |   0.0360832|       0.0004|  3.02e-05|            0.7228|    23.12735|              0.7228|\n",
            "\n",
            "\n",
            "Table: Results for target table 5\n",
            "\n",
            "|                         |Target |Predictor   | Coefficient| P_Value_Coef| R_Squared| P_Value_R_Squared| F_Statistic| P_Value_F_Statistic|\n",
            "|:------------------------|:------|:-----------|-----------:|------------:|---------:|-----------------:|-----------:|-------------------:|\n",
            "|Int                      |v5     |Intercept   |  24.8309265|       0.5724| 0.0001044|             0.516|    79.91092|               0.516|\n",
            "|as.dist(predtables[[1]]) |v5     |hmax        |   0.0021288|       0.9352| 0.0001044|             0.516|    79.91092|               0.516|\n",
            "|as.dist(predtables[[2]]) |v5     |anim_inanim |   0.0553772|       0.0004| 0.0001044|             0.516|    79.91092|               0.516|\n",
            "\n",
            "\n",
            "Table: Results for target table 6\n",
            "\n",
            "|                         |Target |Predictor   | Coefficient| P_Value_Coef| R_Squared| P_Value_R_Squared| F_Statistic| P_Value_F_Statistic|\n",
            "|:------------------------|:------|:-----------|-----------:|------------:|---------:|-----------------:|-----------:|-------------------:|\n",
            "|Int                      |v6     |Intercept   |  54.8775584|       0.7384| 0.0001865|            0.4056|    142.7009|              0.4056|\n",
            "|as.dist(predtables[[1]]) |v6     |hmax        |   0.0228181|       0.6052| 0.0001865|            0.4056|    142.7009|              0.4056|\n",
            "|as.dist(predtables[[2]]) |v6     |anim_inanim |   0.0923224|       0.0004| 0.0001865|            0.4056|    142.7009|              0.4056|\n",
            "\n",
            "\n",
            "Table: Results for target table 7\n",
            "\n",
            "|                         |Target |Predictor   | Coefficient| P_Value_Coef| R_Squared| P_Value_R_Squared| F_Statistic| P_Value_F_Statistic|\n",
            "|:------------------------|:------|:-----------|-----------:|------------:|---------:|-----------------:|-----------:|-------------------:|\n",
            "|Int                      |v7     |Intercept   |  42.7659244|       0.5680| 0.0014519|            0.0096|    1112.562|              0.0096|\n",
            "|as.dist(predtables[[1]]) |v7     |hmax        |  -0.0060155|       0.8712| 0.0014519|            0.0096|    1112.562|              0.0096|\n",
            "|as.dist(predtables[[2]]) |v7     |anim_inanim |   0.2999013|       0.0004| 0.0014519|            0.0096|    1112.562|              0.0096|\n"
          ]
        }
      ],
      "source": [
        "# Create lists for target and predictor tables\n",
        "targetTables <- list(v1, v2, v3, v3a, v3b, v4, latocc)\n",
        "predtables <- list(hmax_c1, anim_inanim)\n",
        "\n",
        "# Initialize an empty list to store result data frames\n",
        "result_list <- list()\n",
        "\n",
        "# Note: The initialization of result_list is repeated, we can remove one instance\n",
        "\n",
        "# Loop over the targetTables\n",
        "for (k in seq_along(targetTables)) {\n",
        "  # Construct the formula dynamically\n",
        "  formula <- paste0(\"as.dist(targetTables[[\", k, \"]]) ~ \",\n",
        "                    paste(paste0(\"as.dist(predtables[[\", seq_along(predtables), \"]])\"), collapse = \" + \"))\n",
        "\n",
        "  # Perform MRM using all predictor tables\n",
        "  mrm_result <- MRM(formula = formula, nperm = 2500)\n",
        "\n",
        "  # Convert the result to a data frame\n",
        "  result_df <- data.frame(\n",
        "    Target = rep(paste0(\"v\", k), nrow(mrm_result$coef)),  # This might need adjustment for 'latocc'\n",
        "    Predictor = c(\"Intercept\", sub(\"_rdm.csv\", \"\", c(\"hmax\", \"anim_inanim\"))),\n",
        "    Coefficient = mrm_result$coef[,1],\n",
        "    P_Value_Coef = mrm_result$coef[,2],\n",
        "    R_Squared = rep(mrm_result$r.squared[1], nrow(mrm_result$coef)),\n",
        "    P_Value_R_Squared = rep(mrm_result$r.squared[2], nrow(mrm_result$coef)),\n",
        "    F_Statistic = rep(mrm_result$F.test[1], nrow(mrm_result$coef)),\n",
        "    P_Value_F_Statistic = rep(mrm_result$F.test[2], nrow(mrm_result$coef))\n",
        "  )\n",
        "\n",
        "  print(kable(result_df, format = \"markdown\", caption = paste0(\"Results for target table \", k)))\n",
        "\n",
        "  result_list[[k]] <- result_df\n",
        "}\n",
        "\n",
        "all_results <- do.call(rbind, result_list)"
      ]
    }
  ],
  "metadata": {
    "accelerator": "GPU",
    "colab": {
      "gpuType": "T4",
      "machine_shape": "hm",
      "provenance": []
    },
    "kernelspec": {
      "display_name": "R",
      "name": "ir"
    },
    "language_info": {
      "name": "R"
    }
  },
  "nbformat": 4,
  "nbformat_minor": 0
}